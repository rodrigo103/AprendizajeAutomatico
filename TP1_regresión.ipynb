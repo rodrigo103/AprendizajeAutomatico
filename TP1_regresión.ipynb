{
  "nbformat": 4,
  "nbformat_minor": 0,
  "metadata": {
    "colab": {
      "provenance": [],
      "collapsed_sections": [],
      "include_colab_link": true
    },
    "kernelspec": {
      "name": "python3",
      "display_name": "Python 3"
    },
    "language_info": {
      "name": "python"
    }
  },
  "cells": [
    {
      "cell_type": "markdown",
      "metadata": {
        "id": "view-in-github",
        "colab_type": "text"
      },
      "source": [
        "<a href=\"https://colab.research.google.com/github/rodrigo103/AprendizajeAutomatico/blob/main/TP1_regresi%C3%B3n.ipynb\" target=\"_parent\"><img src=\"https://colab.research.google.com/assets/colab-badge.svg\" alt=\"Open In Colab\"/></a>"
      ]
    },
    {
      "cell_type": "code",
      "source": [
        "# Librerías de análisis de datos\n",
        "\n",
        "import numpy as np\n",
        "import pandas as pd\n",
        "import matplotlib.pyplot as plt\n",
        "import seaborn as sns\n",
        "# from pandas.api.types import CategoricalDtype\n",
        "\n",
        "from pandas.plotting import scatter_matrix\n",
        "\n",
        "from pprint import pprint"
      ],
      "metadata": {
        "id": "46lvl7_qRLxs"
      },
      "execution_count": 2,
      "outputs": []
    },
    {
      "cell_type": "code",
      "source": [
        "# Librerías de Machine Learning\n",
        "\n",
        "from sklearn.pipeline import Pipeline\n",
        "from sklearn.compose import ColumnTransformer\n",
        "from sklearn.preprocessing import StandardScaler\n",
        "from sklearn.preprocessing import PowerTransformer\n",
        "from sklearn.model_selection import train_test_split\n",
        "from sklearn.model_selection import cross_val_score\n",
        "from sklearn.model_selection import cross_validate\n",
        "from sklearn.model_selection import GridSearchCV\n",
        "from sklearn.tree import DecisionTreeRegressor\n",
        "from sklearn.tree import DecisionTreeClassifier\n",
        "from sklearn.metrics import mean_absolute_error\n",
        "from sklearn.metrics import mean_squared_error\n",
        "from sklearn.metrics import accuracy_score\n",
        "from sklearn.metrics import confusion_matrix\n",
        "from sklearn.metrics import classification_report\n",
        "from sklearn.ensemble import RandomForestRegressor\n",
        "from sklearn.ensemble import RandomForestClassifier\n",
        "from xgboost import XGBRegressor\n",
        "from xgboost import XGBClassifier"
      ],
      "metadata": {
        "id": "qhT0fOoORbnP",
        "colab": {
          "base_uri": "https://localhost:8080/",
          "height": 383
        },
        "outputId": "dcc433a0-5ccf-4cb1-fdb3-e8a721eefa77"
      },
      "execution_count": 18,
      "outputs": [
        {
          "output_type": "error",
          "ename": "ImportError",
          "evalue": "ignored",
          "traceback": [
            "\u001b[0;31m---------------------------------------------------------------------------\u001b[0m",
            "\u001b[0;31mImportError\u001b[0m                               Traceback (most recent call last)",
            "\u001b[0;32m<ipython-input-18-9237cd6f6e88>\u001b[0m in \u001b[0;36m<module>\u001b[0;34m\u001b[0m\n\u001b[1;32m     13\u001b[0m \u001b[0;32mfrom\u001b[0m \u001b[0msklearn\u001b[0m\u001b[0;34m.\u001b[0m\u001b[0mmetrics\u001b[0m \u001b[0;32mimport\u001b[0m \u001b[0mmean_absolute_error\u001b[0m\u001b[0;34m\u001b[0m\u001b[0;34m\u001b[0m\u001b[0m\n\u001b[1;32m     14\u001b[0m \u001b[0;32mfrom\u001b[0m \u001b[0msklearn\u001b[0m\u001b[0;34m.\u001b[0m\u001b[0mmetrics\u001b[0m \u001b[0;32mimport\u001b[0m \u001b[0mmean_squared_error\u001b[0m\u001b[0;34m\u001b[0m\u001b[0;34m\u001b[0m\u001b[0m\n\u001b[0;32m---> 15\u001b[0;31m \u001b[0;32mfrom\u001b[0m \u001b[0msklearn\u001b[0m\u001b[0;34m.\u001b[0m\u001b[0mmetrics\u001b[0m \u001b[0;32mimport\u001b[0m \u001b[0mroot_mean_squared_error\u001b[0m\u001b[0;34m\u001b[0m\u001b[0;34m\u001b[0m\u001b[0m\n\u001b[0m\u001b[1;32m     16\u001b[0m \u001b[0;32mfrom\u001b[0m \u001b[0msklearn\u001b[0m\u001b[0;34m.\u001b[0m\u001b[0mmetrics\u001b[0m \u001b[0;32mimport\u001b[0m \u001b[0maccuracy_score\u001b[0m\u001b[0;34m\u001b[0m\u001b[0;34m\u001b[0m\u001b[0m\n\u001b[1;32m     17\u001b[0m \u001b[0;32mfrom\u001b[0m \u001b[0msklearn\u001b[0m\u001b[0;34m.\u001b[0m\u001b[0mmetrics\u001b[0m \u001b[0;32mimport\u001b[0m \u001b[0mconfusion_matrix\u001b[0m\u001b[0;34m\u001b[0m\u001b[0;34m\u001b[0m\u001b[0m\n",
            "\u001b[0;31mImportError\u001b[0m: cannot import name 'root_mean_squared_error' from 'sklearn.metrics' (/usr/local/lib/python3.7/dist-packages/sklearn/metrics/__init__.py)",
            "",
            "\u001b[0;31m---------------------------------------------------------------------------\u001b[0;32m\nNOTE: If your import is failing due to a missing package, you can\nmanually install dependencies using either !pip or !apt.\n\nTo view examples of installing some common dependencies, click the\n\"Open Examples\" button below.\n\u001b[0;31m---------------------------------------------------------------------------\u001b[0m\n"
          ],
          "errorDetails": {
            "actions": [
              {
                "action": "open_url",
                "actionText": "Open Examples",
                "url": "/notebooks/snippets/importing_libraries.ipynb"
              }
            ]
          }
        }
      ]
    },
    {
      "cell_type": "code",
      "execution_count": 4,
      "metadata": {
        "id": "jm1ieJiJb7YZ",
        "colab": {
          "base_uri": "https://localhost:8080/"
        },
        "outputId": "e3866463-7aac-4d64-fe1d-eb011ad88461"
      },
      "outputs": [
        {
          "output_type": "stream",
          "name": "stdout",
          "text": [
            "Mounted at /content/drive\n"
          ]
        }
      ],
      "source": [
        "from google.colab import drive\n",
        "drive.mount('/content/drive')"
      ]
    },
    {
      "cell_type": "code",
      "source": [
        "df = pd.read_csv(\"drive/MyDrive/AprendizajeAutomatico/OnlineNewsPopularity.csv\", sep=', ')"
      ],
      "metadata": {
        "id": "zUOzfjzQkQ2b",
        "colab": {
          "base_uri": "https://localhost:8080/"
        },
        "outputId": "d5898e7a-bc1c-47b5-802d-9cad90f86627"
      },
      "execution_count": 5,
      "outputs": [
        {
          "output_type": "stream",
          "name": "stderr",
          "text": [
            "/usr/local/lib/python3.7/dist-packages/pandas/util/_decorators.py:311: ParserWarning: Falling back to the 'python' engine because the 'c' engine does not support regex separators (separators > 1 char and different from '\\s+' are interpreted as regex); you can avoid this warning by specifying engine='python'.\n",
            "  return func(*args, **kwargs)\n"
          ]
        }
      ]
    },
    {
      "cell_type": "code",
      "source": [
        "features = [\n",
        "    'timedelta', \n",
        "    # Words\n",
        "    'n_tokens_title', 'n_tokens_content', \n",
        "    'average_token_length', \n",
        "    'n_unique_tokens', 'n_non_stop_words', 'n_non_stop_unique_tokens',\n",
        "    'num_hrefs', 'num_self_hrefs',\n",
        "    # Digital Media\n",
        "    'num_imgs', 'num_videos', \n",
        "    # Links\n",
        "    'self_reference_min_shares', 'self_reference_max_shares', 'self_reference_avg_sharess', \n",
        "    # Time\n",
        "    'weekday_is_monday', 'weekday_is_tuesday', 'weekday_is_wednesday', 'weekday_is_thursday', 'weekday_is_friday', 'weekday_is_saturday', 'weekday_is_sunday', \n",
        "    'is_weekend', \n",
        "    # Keywords\n",
        "    'num_keywords', \n",
        "    'kw_min_min', 'kw_max_min', 'kw_avg_min', 'kw_min_max', 'kw_max_max', 'kw_avg_max', 'kw_min_avg', 'kw_max_avg', 'kw_avg_avg', \n",
        "    'data_channel_is_lifestyle', 'data_channel_is_entertainment', 'data_channel_is_bus', 'data_channel_is_socmed', 'data_channel_is_tech', 'data_channel_is_world', \n",
        "    # Natural Language Processing\n",
        "    'LDA_00', 'LDA_01', 'LDA_02', 'LDA_03', 'LDA_04', \n",
        "    'global_subjectivity', 'global_sentiment_polarity', \n",
        "    'global_rate_positive_words', 'global_rate_negative_words', \n",
        "    'rate_positive_words', 'rate_negative_words', \n",
        "    'avg_positive_polarity', 'min_positive_polarity', 'max_positive_polarity', \n",
        "    'avg_negative_polarity', 'min_negative_polarity', 'max_negative_polarity', \n",
        "    'title_subjectivity', 'title_sentiment_polarity', 'abs_title_subjectivity', 'abs_title_sentiment_polarity'\n",
        "]\n",
        "\n",
        "# Se separa el dataframe en features (X) y target (y)\n",
        "X = df[features]\n",
        "y = df.shares\n",
        "\n",
        "\n",
        "# Lo primero que hay que hacer es separar un conjunto de datos para test\n",
        "trainval_X, test_X, trainval_y, test_y = train_test_split(X, y, random_state = 0, test_size = 0.3)\n",
        "\n",
        "# Ahora separo el conjunto de datos restante (trainval) en entrenamiento (train) y validación (val)\n",
        "train_X, val_X, train_y, val_y = train_test_split(trainval_X, trainval_y, random_state = 0)"
      ],
      "metadata": {
        "id": "HJJ6CHpCfmKc"
      },
      "execution_count": 6,
      "outputs": []
    },
    {
      "cell_type": "markdown",
      "source": [
        "Relizo un entrenamiento con varios modelos sobre todas las features para establecer una linea de base"
      ],
      "metadata": {
        "id": "-ehs-5YEvTkK"
      }
    },
    {
      "cell_type": "code",
      "source": [
        "scoring = {\n",
        "    'neg_mean_absolute_error', 'neg_root_mean_squared_error'\n",
        "}\n",
        "\n",
        "preprocessor = ColumnTransformer(\n",
        "    [\n",
        "      ('power_transformer', PowerTransformer(), \n",
        "        [\n",
        "          'num_hrefs',\n",
        "          'num_self_hrefs',\n",
        "          'n_tokens_content',\n",
        "          'self_reference_min_shares', \n",
        "          'self_reference_max_shares', \n",
        "          'self_reference_avg_sharess',\n",
        "        ]\n",
        "      ),\n",
        "      ('standard_scaler', StandardScaler(), \n",
        "        [\n",
        "          # 'n_tokens_title',\n",
        "          'global_subjectivity', \n",
        "          'global_sentiment_polarity',\n",
        "          'global_rate_positive_words', \n",
        "          'global_rate_negative_words',\n",
        "          'rate_positive_words',\n",
        "          'rate_negative_words',\n",
        "          'avg_positive_polarity'\n",
        "        ]\n",
        "      ),\n",
        "    ], remainder='passthrough')"
      ],
      "metadata": {
        "id": "MiYllHyjEX_M"
      },
      "execution_count": 7,
      "outputs": []
    },
    {
      "cell_type": "code",
      "source": [
        "params = {\n",
        "  'model__max_leaf_nodes': [None, 2, 3, 4, 5, 6, 7, 8, 9, 10, 20, 30, 40, 50, 500, 5000],\n",
        "  'model__random_state': [1]\n",
        "}\n",
        "\n",
        "model = DecisionTreeRegressor()\n",
        "\n",
        "my_pipeline = Pipeline(steps=[ \n",
        "    ('standard_scaler', preprocessor),\n",
        "    ('model', model)])\n",
        "\n",
        "grid_pipeline = GridSearchCV(my_pipeline, \n",
        "                              params,\n",
        "                              cv = 5, \n",
        "                              scoring = scoring,\n",
        "                              refit='neg_mean_absolute_error',\n",
        "                              return_train_score=True)\n",
        "\n",
        "grid_pipeline.fit(train_X, train_y);\n",
        "\n",
        "\n",
        "# Muestro resultados\n",
        "print(grid_pipeline.cv_results_.keys())\n",
        "\n",
        "print(grid_pipeline.cv_results_['param_model__max_leaf_nodes'].data)\n",
        "\n",
        "print(grid_pipeline.cv_results_[\"mean_test_neg_mean_absolute_error\"][grid_pipeline.best_index_])\n",
        "print(grid_pipeline.cv_results_[\"std_test_neg_mean_absolute_error\"][grid_pipeline.best_index_])\n",
        "print(grid_pipeline.cv_results_[\"mean_test_neg_root_mean_squared_error\"][grid_pipeline.best_index_])\n",
        "\n",
        "print(grid_pipeline.cv_results_[\"mean_train_neg_mean_absolute_error\"][grid_pipeline.best_index_])\n",
        "print(grid_pipeline.cv_results_[\"std_train_neg_mean_absolute_error\"][grid_pipeline.best_index_])\n",
        "print(grid_pipeline.cv_results_[\"mean_train_neg_root_mean_squared_error\"][grid_pipeline.best_index_])\n",
        "\n",
        "best_params_decision_tree = grid_pipeline.best_params_\n",
        "print(f'Best parameters {best_params_decision_tree}')\n",
        "print(f'Best score {grid_pipeline.best_score_}')"
      ],
      "metadata": {
        "colab": {
          "base_uri": "https://localhost:8080/"
        },
        "id": "c-2x-NhrGXVU",
        "outputId": "952d95bd-7092-4313-f6c0-6e9db769de96"
      },
      "execution_count": null,
      "outputs": [
        {
          "output_type": "stream",
          "name": "stdout",
          "text": [
            "dict_keys(['mean_fit_time', 'std_fit_time', 'mean_score_time', 'std_score_time', 'param_model__max_leaf_nodes', 'param_model__random_state', 'params', 'split0_test_neg_root_mean_squared_error', 'split1_test_neg_root_mean_squared_error', 'split2_test_neg_root_mean_squared_error', 'split3_test_neg_root_mean_squared_error', 'split4_test_neg_root_mean_squared_error', 'mean_test_neg_root_mean_squared_error', 'std_test_neg_root_mean_squared_error', 'rank_test_neg_root_mean_squared_error', 'split0_train_neg_root_mean_squared_error', 'split1_train_neg_root_mean_squared_error', 'split2_train_neg_root_mean_squared_error', 'split3_train_neg_root_mean_squared_error', 'split4_train_neg_root_mean_squared_error', 'mean_train_neg_root_mean_squared_error', 'std_train_neg_root_mean_squared_error', 'split0_test_neg_mean_absolute_error', 'split1_test_neg_mean_absolute_error', 'split2_test_neg_mean_absolute_error', 'split3_test_neg_mean_absolute_error', 'split4_test_neg_mean_absolute_error', 'mean_test_neg_mean_absolute_error', 'std_test_neg_mean_absolute_error', 'rank_test_neg_mean_absolute_error', 'split0_train_neg_mean_absolute_error', 'split1_train_neg_mean_absolute_error', 'split2_train_neg_mean_absolute_error', 'split3_train_neg_mean_absolute_error', 'split4_train_neg_mean_absolute_error', 'mean_train_neg_mean_absolute_error', 'std_train_neg_mean_absolute_error'])\n",
            "[None 2 3 4 5 6 7 8 9 10 20 30 40 50 500 5000]\n",
            "-3257.8504389069176\n",
            "272.66112702290417\n",
            "-13081.74729680614\n",
            "-3099.6670861274915\n",
            "91.45523721627625\n",
            "-11133.114430959013\n",
            "Best parameters {'model__max_leaf_nodes': 10, 'model__random_state': 1}\n",
            "Best score -3257.8504389069176\n"
          ]
        }
      ]
    },
    {
      "cell_type": "code",
      "source": [
        "results = grid_pipeline.cv_results_\n",
        "\n",
        "plt.figure(figsize=(13, 13))\n",
        "plt.title(\"GridSearchCV evaluating using multiple scorers simultaneously\", fontsize=16)\n",
        "\n",
        "plt.xlabel(\"min_samples_split\")\n",
        "plt.ylabel(\"Score\")\n",
        "\n",
        "ax = plt.gca()\n",
        "# ax.set_xlim(0, 550)\n",
        "# ax.set_ylim(-5000, 1)\n",
        "\n",
        "# Get the regular numpy array from the MaskedArray\n",
        "X_axis = np.array(results[\"param_model__max_leaf_nodes\"].data, dtype=float)\n",
        "\n",
        "for scorer, color in zip(sorted(scoring), [\"g\", \"k\"]):\n",
        "    for sample, style in ((\"train\", \"--\"), (\"test\", \"-\")):\n",
        "        sample_score_mean = results[\"mean_%s_%s\" % (sample, scorer)]\n",
        "        sample_score_std = results[\"std_%s_%s\" % (sample, scorer)]\n",
        "        ax.fill_between(\n",
        "            X_axis,\n",
        "            sample_score_mean - sample_score_std,\n",
        "            sample_score_mean + sample_score_std,\n",
        "            alpha=0.1 if sample == \"test\" else 0,\n",
        "            color=color,\n",
        "        )\n",
        "        ax.plot(\n",
        "            X_axis,\n",
        "            sample_score_mean,\n",
        "            style,\n",
        "            color=color,\n",
        "            alpha=1 if sample == \"test\" else 0.7,\n",
        "            label=\"%s (%s)\" % (scorer, sample),\n",
        "        )\n",
        "\n",
        "    best_index = np.nonzero(results[\"rank_test_%s\" % scorer] == 1)[0][0]\n",
        "    best_score = results[\"mean_test_%s\" % scorer][best_index]\n",
        "\n",
        "    # Plot a dotted vertical line at the best score for that scorer marked by x\n",
        "    ax.plot(\n",
        "        [\n",
        "            X_axis[best_index],\n",
        "        ]\n",
        "        * 2,\n",
        "        [0, best_score],\n",
        "        linestyle=\"-.\",\n",
        "        color=color,\n",
        "        marker=\"x\",\n",
        "        markeredgewidth=3,\n",
        "        ms=8,\n",
        "    )\n",
        "\n",
        "    # Annotate the best score for that scorer\n",
        "    ax.annotate(\"%0.2f\" % best_score, (X_axis[best_index], best_score + 0.005))\n",
        "\n",
        "plt.legend(loc=\"best\")\n",
        "plt.grid(False)\n",
        "plt.show()"
      ],
      "metadata": {
        "colab": {
          "base_uri": "https://localhost:8080/",
          "height": 787
        },
        "id": "OZQYGiILujqY",
        "outputId": "427ae03b-d8fa-420c-f4f6-2e960d580dca"
      },
      "execution_count": null,
      "outputs": [
        {
          "output_type": "display_data",
          "data": {
            "text/plain": [
              "<Figure size 936x936 with 1 Axes>"
            ],
            "image/png": "[encoded data removed]"
          },
          "metadata": {
            "needs_background": "light"
          }
        }
      ]
    },
    {
      "cell_type": "code",
      "source": [
        "params = {\n",
        "  'model__n_estimators': [\n",
        "      3,\n",
        "      # 5, 10, 15, \n",
        "      # 50, 100, 200\n",
        "      ],\n",
        "  # 'model__max_depth': [7],\n",
        "  'model__random_state': [1], \n",
        "}\n",
        "\n",
        "model = RandomForestRegressor()\n",
        "\n",
        "my_pipeline = Pipeline(steps=[ \n",
        "    ('standard_scaler', preprocessor),\n",
        "    ('model', model)])\n",
        "\n",
        "grid_pipeline = GridSearchCV(my_pipeline,\n",
        "                              params,\n",
        "                              cv = 5,\n",
        "                              scoring = scoring,\n",
        "                              refit='neg_mean_absolute_error',\n",
        "                              return_train_score=True)\n",
        "\n",
        "grid_pipeline.fit(train_X, train_y);\n",
        "\n",
        "\n",
        "# Muestro resultados\n",
        "print(grid_pipeline.cv_results_.keys())\n",
        "\n",
        "print(grid_pipeline.cv_results_['param_model__n_estimators'].data)\n",
        "\n",
        "print(grid_pipeline.cv_results_[\"mean_test_neg_mean_absolute_error\"][grid_pipeline.best_index_])\n",
        "print(grid_pipeline.cv_results_[\"std_test_neg_mean_absolute_error\"][grid_pipeline.best_index_])\n",
        "print(grid_pipeline.cv_results_[\"mean_test_neg_root_mean_squared_error\"][grid_pipeline.best_index_])\n",
        "\n",
        "print(grid_pipeline.cv_results_[\"mean_train_neg_mean_absolute_error\"][grid_pipeline.best_index_])\n",
        "print(grid_pipeline.cv_results_[\"std_train_neg_mean_absolute_error\"][grid_pipeline.best_index_])\n",
        "print(grid_pipeline.cv_results_[\"mean_train_neg_root_mean_squared_error\"][grid_pipeline.best_index_])\n",
        "\n",
        "best_params_random_forest = grid_pipeline.best_params_\n",
        "print(f'Best parameters {best_params_random_forest}')\n",
        "print(f'Best score {grid_pipeline.best_score_}')"
      ],
      "metadata": {
        "id": "hyNG9ZcPWq2l",
        "colab": {
          "base_uri": "https://localhost:8080/"
        },
        "outputId": "fe53e2cb-efdd-46ad-e274-550dff06396a"
      },
      "execution_count": null,
      "outputs": [
        {
          "output_type": "stream",
          "name": "stdout",
          "text": [
            "dict_keys(['mean_fit_time', 'std_fit_time', 'mean_score_time', 'std_score_time', 'param_model__n_estimators', 'param_model__random_state', 'params', 'split0_test_neg_mean_absolute_error', 'split1_test_neg_mean_absolute_error', 'split2_test_neg_mean_absolute_error', 'split3_test_neg_mean_absolute_error', 'split4_test_neg_mean_absolute_error', 'mean_test_neg_mean_absolute_error', 'std_test_neg_mean_absolute_error', 'rank_test_neg_mean_absolute_error', 'split0_train_neg_mean_absolute_error', 'split1_train_neg_mean_absolute_error', 'split2_train_neg_mean_absolute_error', 'split3_train_neg_mean_absolute_error', 'split4_train_neg_mean_absolute_error', 'mean_train_neg_mean_absolute_error', 'std_train_neg_mean_absolute_error', 'split0_test_neg_root_mean_squared_error', 'split1_test_neg_root_mean_squared_error', 'split2_test_neg_root_mean_squared_error', 'split3_test_neg_root_mean_squared_error', 'split4_test_neg_root_mean_squared_error', 'mean_test_neg_root_mean_squared_error', 'std_test_neg_root_mean_squared_error', 'rank_test_neg_root_mean_squared_error', 'split0_train_neg_root_mean_squared_error', 'split1_train_neg_root_mean_squared_error', 'split2_train_neg_root_mean_squared_error', 'split3_train_neg_root_mean_squared_error', 'split4_train_neg_root_mean_squared_error', 'mean_train_neg_root_mean_squared_error', 'std_train_neg_root_mean_squared_error'])\n",
            "[3]\n",
            "-4148.07950837198\n",
            "216.64642201822844\n",
            "-16853.29243167488\n",
            "-1615.080523550519\n",
            "76.28673517649271\n",
            "-9052.069095969027\n",
            "Best parameters {'model__n_estimators': 3, 'model__random_state': 1}\n",
            "Best score -4148.07950837198\n"
          ]
        }
      ]
    },
    {
      "cell_type": "code",
      "source": [
        "params = {\n",
        "  'model__n_estimators': [\n",
        "      5, 10, 15, \n",
        "      # 20, 25, 50, 100, \n",
        "      # 500, \n",
        "      # 1000\n",
        "      ],\n",
        "  'model__learning_rate': [0.01, 0.05, 0.1],\n",
        "  'model__early_stopping_rounds':[5],\n",
        "  'model__random_state': [1], \n",
        "}\n",
        "\n",
        "model = XGBRegressor()\n",
        "\n",
        "my_pipeline = Pipeline(steps=[ \n",
        "    ('standard_scaler', preprocessor),\n",
        "    ('model', model)])\n",
        "\n",
        "grid_pipeline = GridSearchCV(my_pipeline, \n",
        "                              params, \n",
        "                              cv = 5, \n",
        "                              scoring = scoring,\n",
        "                              refit='neg_mean_absolute_error',\n",
        "                              return_train_score=True)\n",
        "\n",
        "grid_pipeline.fit(train_X, train_y);\n",
        "\n",
        "\n",
        "# Muestro resultados\n",
        "print(grid_pipeline.cv_results_.keys())\n",
        "\n",
        "print(grid_pipeline.cv_results_['param_model__n_estimators'].data)\n",
        "\n",
        "print(grid_pipeline.cv_results_[\"mean_test_neg_mean_absolute_error\"][grid_pipeline.best_index_])\n",
        "print(grid_pipeline.cv_results_[\"std_test_neg_mean_absolute_error\"][grid_pipeline.best_index_])\n",
        "print(grid_pipeline.cv_results_[\"mean_test_neg_root_mean_squared_error\"][grid_pipeline.best_index_])\n",
        "\n",
        "print(grid_pipeline.cv_results_[\"mean_train_neg_mean_absolute_error\"][grid_pipeline.best_index_])\n",
        "print(grid_pipeline.cv_results_[\"std_train_neg_mean_absolute_error\"][grid_pipeline.best_index_])\n",
        "print(grid_pipeline.cv_results_[\"mean_train_neg_root_mean_squared_error\"][grid_pipeline.best_index_])\n",
        "\n",
        "best_params_xgb = grid_pipeline.best_params_\n",
        "print(f'Best parameters {best_params_xgb}')\n",
        "print(f'Best score {grid_pipeline.best_score_}')"
      ],
      "metadata": {
        "colab": {
          "base_uri": "https://localhost:8080/"
        },
        "id": "GARKBtw6KvpL",
        "outputId": "d6395991-ed9e-4674-bf86-98c3641a9ca9"
      },
      "execution_count": 8,
      "outputs": [
        {
          "output_type": "stream",
          "name": "stdout",
          "text": [
            "[01:59:38] WARNING: /workspace/src/objective/regression_obj.cu:152: reg:linear is now deprecated in favor of reg:squarederror.\n",
            "[01:59:38] WARNING: /workspace/src/objective/regression_obj.cu:152: reg:linear is now deprecated in favor of reg:squarederror.\n",
            "[01:59:39] WARNING: /workspace/src/objective/regression_obj.cu:152: reg:linear is now deprecated in favor of reg:squarederror.\n",
            "[01:59:40] WARNING: /workspace/src/objective/regression_obj.cu:152: reg:linear is now deprecated in favor of reg:squarederror.\n",
            "[01:59:40] WARNING: /workspace/src/objective/regression_obj.cu:152: reg:linear is now deprecated in favor of reg:squarederror.\n",
            "[01:59:41] WARNING: /workspace/src/objective/regression_obj.cu:152: reg:linear is now deprecated in favor of reg:squarederror.\n",
            "[01:59:42] WARNING: /workspace/src/objective/regression_obj.cu:152: reg:linear is now deprecated in favor of reg:squarederror.\n",
            "[01:59:43] WARNING: /workspace/src/objective/regression_obj.cu:152: reg:linear is now deprecated in favor of reg:squarederror.\n",
            "[01:59:43] WARNING: /workspace/src/objective/regression_obj.cu:152: reg:linear is now deprecated in favor of reg:squarederror.\n",
            "[01:59:44] WARNING: /workspace/src/objective/regression_obj.cu:152: reg:linear is now deprecated in favor of reg:squarederror.\n",
            "[01:59:45] WARNING: /workspace/src/objective/regression_obj.cu:152: reg:linear is now deprecated in favor of reg:squarederror.\n",
            "[01:59:46] WARNING: /workspace/src/objective/regression_obj.cu:152: reg:linear is now deprecated in favor of reg:squarederror.\n",
            "[01:59:47] WARNING: /workspace/src/objective/regression_obj.cu:152: reg:linear is now deprecated in favor of reg:squarederror.\n",
            "[01:59:48] WARNING: /workspace/src/objective/regression_obj.cu:152: reg:linear is now deprecated in favor of reg:squarederror.\n",
            "[01:59:49] WARNING: /workspace/src/objective/regression_obj.cu:152: reg:linear is now deprecated in favor of reg:squarederror.\n",
            "[01:59:50] WARNING: /workspace/src/objective/regression_obj.cu:152: reg:linear is now deprecated in favor of reg:squarederror.\n",
            "[01:59:51] WARNING: /workspace/src/objective/regression_obj.cu:152: reg:linear is now deprecated in favor of reg:squarederror.\n",
            "[01:59:51] WARNING: /workspace/src/objective/regression_obj.cu:152: reg:linear is now deprecated in favor of reg:squarederror.\n",
            "[01:59:52] WARNING: /workspace/src/objective/regression_obj.cu:152: reg:linear is now deprecated in favor of reg:squarederror.\n",
            "[01:59:53] WARNING: /workspace/src/objective/regression_obj.cu:152: reg:linear is now deprecated in favor of reg:squarederror.\n",
            "[01:59:53] WARNING: /workspace/src/objective/regression_obj.cu:152: reg:linear is now deprecated in favor of reg:squarederror.\n",
            "[01:59:54] WARNING: /workspace/src/objective/regression_obj.cu:152: reg:linear is now deprecated in favor of reg:squarederror.\n",
            "[01:59:55] WARNING: /workspace/src/objective/regression_obj.cu:152: reg:linear is now deprecated in favor of reg:squarederror.\n",
            "[01:59:56] WARNING: /workspace/src/objective/regression_obj.cu:152: reg:linear is now deprecated in favor of reg:squarederror.\n",
            "[01:59:56] WARNING: /workspace/src/objective/regression_obj.cu:152: reg:linear is now deprecated in favor of reg:squarederror.\n",
            "[01:59:57] WARNING: /workspace/src/objective/regression_obj.cu:152: reg:linear is now deprecated in favor of reg:squarederror.\n",
            "[01:59:58] WARNING: /workspace/src/objective/regression_obj.cu:152: reg:linear is now deprecated in favor of reg:squarederror.\n",
            "[01:59:59] WARNING: /workspace/src/objective/regression_obj.cu:152: reg:linear is now deprecated in favor of reg:squarederror.\n",
            "[02:00:00] WARNING: /workspace/src/objective/regression_obj.cu:152: reg:linear is now deprecated in favor of reg:squarederror.\n",
            "[02:00:01] WARNING: /workspace/src/objective/regression_obj.cu:152: reg:linear is now deprecated in favor of reg:squarederror.\n",
            "[02:00:02] WARNING: /workspace/src/objective/regression_obj.cu:152: reg:linear is now deprecated in favor of reg:squarederror.\n",
            "[02:00:03] WARNING: /workspace/src/objective/regression_obj.cu:152: reg:linear is now deprecated in favor of reg:squarederror.\n",
            "[02:00:04] WARNING: /workspace/src/objective/regression_obj.cu:152: reg:linear is now deprecated in favor of reg:squarederror.\n",
            "[02:00:04] WARNING: /workspace/src/objective/regression_obj.cu:152: reg:linear is now deprecated in favor of reg:squarederror.\n",
            "[02:00:05] WARNING: /workspace/src/objective/regression_obj.cu:152: reg:linear is now deprecated in favor of reg:squarederror.\n",
            "[02:00:05] WARNING: /workspace/src/objective/regression_obj.cu:152: reg:linear is now deprecated in favor of reg:squarederror.\n",
            "[02:00:06] WARNING: /workspace/src/objective/regression_obj.cu:152: reg:linear is now deprecated in favor of reg:squarederror.\n",
            "[02:00:07] WARNING: /workspace/src/objective/regression_obj.cu:152: reg:linear is now deprecated in favor of reg:squarederror.\n",
            "[02:00:08] WARNING: /workspace/src/objective/regression_obj.cu:152: reg:linear is now deprecated in favor of reg:squarederror.\n",
            "[02:00:09] WARNING: /workspace/src/objective/regression_obj.cu:152: reg:linear is now deprecated in favor of reg:squarederror.\n",
            "[02:00:11] WARNING: /workspace/src/objective/regression_obj.cu:152: reg:linear is now deprecated in favor of reg:squarederror.\n",
            "[02:00:12] WARNING: /workspace/src/objective/regression_obj.cu:152: reg:linear is now deprecated in favor of reg:squarederror.\n",
            "[02:00:13] WARNING: /workspace/src/objective/regression_obj.cu:152: reg:linear is now deprecated in favor of reg:squarederror.\n",
            "[02:00:14] WARNING: /workspace/src/objective/regression_obj.cu:152: reg:linear is now deprecated in favor of reg:squarederror.\n",
            "[02:00:15] WARNING: /workspace/src/objective/regression_obj.cu:152: reg:linear is now deprecated in favor of reg:squarederror.\n",
            "[02:00:16] WARNING: /workspace/src/objective/regression_obj.cu:152: reg:linear is now deprecated in favor of reg:squarederror.\n",
            "dict_keys(['mean_fit_time', 'std_fit_time', 'mean_score_time', 'std_score_time', 'param_model__early_stopping_rounds', 'param_model__learning_rate', 'param_model__n_estimators', 'param_model__random_state', 'params', 'split0_test_neg_root_mean_squared_error', 'split1_test_neg_root_mean_squared_error', 'split2_test_neg_root_mean_squared_error', 'split3_test_neg_root_mean_squared_error', 'split4_test_neg_root_mean_squared_error', 'mean_test_neg_root_mean_squared_error', 'std_test_neg_root_mean_squared_error', 'rank_test_neg_root_mean_squared_error', 'split0_train_neg_root_mean_squared_error', 'split1_train_neg_root_mean_squared_error', 'split2_train_neg_root_mean_squared_error', 'split3_train_neg_root_mean_squared_error', 'split4_train_neg_root_mean_squared_error', 'mean_train_neg_root_mean_squared_error', 'std_train_neg_root_mean_squared_error', 'split0_test_neg_mean_absolute_error', 'split1_test_neg_mean_absolute_error', 'split2_test_neg_mean_absolute_error', 'split3_test_neg_mean_absolute_error', 'split4_test_neg_mean_absolute_error', 'mean_test_neg_mean_absolute_error', 'std_test_neg_mean_absolute_error', 'rank_test_neg_mean_absolute_error', 'split0_train_neg_mean_absolute_error', 'split1_train_neg_mean_absolute_error', 'split2_train_neg_mean_absolute_error', 'split3_train_neg_mean_absolute_error', 'split4_train_neg_mean_absolute_error', 'mean_train_neg_mean_absolute_error', 'std_train_neg_mean_absolute_error'])\n",
            "[5 10 15 5 10 15 5 10 15]\n",
            "-2558.988310039436\n",
            "277.3934452090373\n",
            "-13090.501674452278\n",
            "-2536.5667234583802\n",
            "68.69875930154112\n",
            "-13519.594763700752\n",
            "Best parameters {'model__early_stopping_rounds': 5, 'model__learning_rate': 0.1, 'model__n_estimators': 5, 'model__random_state': 1}\n",
            "Best score -2558.988310039436\n"
          ]
        }
      ]
    },
    {
      "cell_type": "markdown",
      "source": [
        "El rendimiento del mejor modelo tomando en cuenta la variable MAE antes de recortar las variables fue con XGBRegressor y fue de  \n",
        "MAE: -2558.988310039436 MSE: -13090.501674452278\n",
        "con los parámetros:  \n",
        "'model__early_stopping_rounds': 5,  \n",
        "'model__learning_rate': 0.1,  \n",
        "'model__n_estimators': 5,  \n",
        "'model__random_state': 1 \n",
        "\n",
        "\n",
        "## Ahora voy a hacer un último fit y predict con el conjunto de test para calcular las metricas finales."
      ],
      "metadata": {
        "id": "s2iUQbQn2ScS"
      }
    },
    {
      "cell_type": "code",
      "source": [
        "print(best_params_xgb)\n",
        "\n",
        "my_pipeline = Pipeline(steps=[\n",
        "    ('preprocessor', preprocessor),\n",
        "    ('model', XGBRegressor(\n",
        "        n_estimators=5,\n",
        "        learning_rate=0.1,\n",
        "        random_state=1,\n",
        "        ))\n",
        "  ])\n",
        "\n",
        "my_pipeline.fit(trainval_X, trainval_y)\n",
        "\n",
        "preds = my_pipeline.predict(test_X)\n",
        "\n",
        "print(f\"MAE: {mean_absolute_error(preds, test_y)} MSE: {np.sqrt(mean_squared_error(preds, test_y))}\" )"
      ],
      "metadata": {
        "colab": {
          "base_uri": "https://localhost:8080/"
        },
        "id": "DW9p0vt6ARc6",
        "outputId": "41378f98-de4e-4d27-ccaf-0752e50518fb"
      },
      "execution_count": 41,
      "outputs": [
        {
          "output_type": "stream",
          "name": "stdout",
          "text": [
            "{'model__early_stopping_rounds': 5, 'model__learning_rate': 0.1, 'model__n_estimators': 5, 'model__random_state': 1}\n",
            "[02:34:56] WARNING: /workspace/src/objective/regression_obj.cu:152: reg:linear is now deprecated in favor of reg:squarederror.\n",
            "MAE: 2335.098479300923 MSE: 8411.33974283846\n"
          ]
        }
      ]
    },
    {
      "cell_type": "markdown",
      "source": [
        "El resultado final fue: MAE: 2335.098479300923 MSE: 8411.33974283846"
      ],
      "metadata": {
        "id": "9unuqT8tJJ2f"
      }
    },
    {
      "cell_type": "markdown",
      "source": [
        "## Vuelvo a correr los modelos despreciando algunos features de acuerdo al análisis EDA"
      ],
      "metadata": {
        "id": "BLw7Vzoo2BVJ"
      }
    },
    {
      "cell_type": "code",
      "source": [
        "features = [\n",
        "    # 'timedelta', \n",
        "    # Words\n",
        "    'n_tokens_title', 'n_tokens_content', \n",
        "    # 'average_token_length', \n",
        "    # 'n_unique_tokens', 'n_non_stop_words', 'n_non_stop_unique_tokens',\n",
        "    'num_hrefs', 'num_self_hrefs',\n",
        "    # Digital Media\n",
        "    # 'num_imgs', 'num_videos', \n",
        "    # Links\n",
        "    'self_reference_min_shares', 'self_reference_max_shares', 'self_reference_avg_sharess', \n",
        "    # Time\n",
        "    # 'weekday_is_monday', 'weekday_is_tuesday', 'weekday_is_wednesday', 'weekday_is_thursday', 'weekday_is_friday', 'weekday_is_saturday', 'weekday_is_sunday', \n",
        "    # 'is_weekend', \n",
        "    # Keywords\n",
        "    'num_keywords', \n",
        "    'kw_min_min', 'kw_max_min', 'kw_avg_min', 'kw_min_max', 'kw_max_max', 'kw_avg_max', 'kw_min_avg', 'kw_max_avg', 'kw_avg_avg', \n",
        "    'data_channel_is_lifestyle', 'data_channel_is_entertainment', 'data_channel_is_bus', 'data_channel_is_socmed', 'data_channel_is_tech', 'data_channel_is_world', \n",
        "    # Natural Language Processing\n",
        "    'LDA_00', 'LDA_01', 'LDA_02', 'LDA_03', 'LDA_04', \n",
        "    'global_subjectivity', 'global_sentiment_polarity', \n",
        "    'global_rate_positive_words', 'global_rate_negative_words', \n",
        "    'rate_positive_words', 'rate_negative_words', \n",
        "    'avg_positive_polarity', 'min_positive_polarity', 'max_positive_polarity', \n",
        "    'avg_negative_polarity', 'min_negative_polarity', 'max_negative_polarity', \n",
        "    'title_subjectivity', 'title_sentiment_polarity', 'abs_title_subjectivity', 'abs_title_sentiment_polarity'\n",
        "]\n",
        "\n",
        "# Se separa el dataframe en features (X) y target (y)\n",
        "X = df[features]\n",
        "y = df.shares\n",
        "\n",
        "# Lo primero que hay que hacer es separar un conjunto de datos para test\n",
        "trainval_X, test_X, trainval_y, test_y = train_test_split(X, y, random_state = 0, test_size = 0.3)\n",
        "\n",
        "# Ahora separo el conjunto de datos restante (trainval) en entrenamiento (train) y validación (val)\n",
        "train_X, val_X, train_y, val_y = train_test_split(trainval_X, trainval_y, random_state = 0)"
      ],
      "metadata": {
        "id": "b-28_35sfc-1"
      },
      "execution_count": 43,
      "outputs": []
    },
    {
      "cell_type": "markdown",
      "source": [
        "Vuelvo a probar XGBRegressor con menos features"
      ],
      "metadata": {
        "id": "d1NAdk6YJgJE"
      }
    },
    {
      "cell_type": "code",
      "source": [
        "params = {\n",
        "  'model__n_estimators': [\n",
        "      5, 10, 15, \n",
        "      # 20, 25, 50, 100, \n",
        "      # 500, \n",
        "      # 1000\n",
        "      ],\n",
        "  'model__learning_rate': [0.01, 0.05, 0.1],\n",
        "  'model__early_stopping_rounds':[5],\n",
        "  'model__random_state': [1], \n",
        "}\n",
        "\n",
        "model = XGBRegressor()\n",
        "\n",
        "my_pipeline = Pipeline(steps=[ \n",
        "    ('standard_scaler', preprocessor),\n",
        "    ('model', model)])\n",
        "\n",
        "grid_pipeline = GridSearchCV(my_pipeline, \n",
        "                              params, \n",
        "                              cv = 5, \n",
        "                              scoring = scoring,\n",
        "                              refit='neg_mean_absolute_error',\n",
        "                              return_train_score=True)\n",
        "\n",
        "grid_pipeline.fit(train_X, train_y);\n",
        "\n",
        "\n",
        "# Muestro resultados\n",
        "print(grid_pipeline.cv_results_.keys())\n",
        "\n",
        "print(grid_pipeline.cv_results_['param_model__n_estimators'].data)\n",
        "\n",
        "print(grid_pipeline.cv_results_[\"mean_test_neg_mean_absolute_error\"][grid_pipeline.best_index_])\n",
        "print(grid_pipeline.cv_results_[\"std_test_neg_mean_absolute_error\"][grid_pipeline.best_index_])\n",
        "print(grid_pipeline.cv_results_[\"mean_test_neg_root_mean_squared_error\"][grid_pipeline.best_index_])\n",
        "\n",
        "print(grid_pipeline.cv_results_[\"mean_train_neg_mean_absolute_error\"][grid_pipeline.best_index_])\n",
        "print(grid_pipeline.cv_results_[\"std_train_neg_mean_absolute_error\"][grid_pipeline.best_index_])\n",
        "print(grid_pipeline.cv_results_[\"mean_train_neg_root_mean_squared_error\"][grid_pipeline.best_index_])\n",
        "\n",
        "best_params_xgb = grid_pipeline.best_params_\n",
        "print(f'Best parameters {best_params_xgb}')\n",
        "print(f'Best score {grid_pipeline.best_score_}')"
      ],
      "metadata": {
        "colab": {
          "base_uri": "https://localhost:8080/"
        },
        "id": "lLyv7pYqJfTE",
        "outputId": "565a2666-8ede-4a39-d9ae-4c5eb7b689c9"
      },
      "execution_count": 44,
      "outputs": [
        {
          "output_type": "stream",
          "name": "stdout",
          "text": [
            "[02:38:32] WARNING: /workspace/src/objective/regression_obj.cu:152: reg:linear is now deprecated in favor of reg:squarederror.\n",
            "[02:38:32] WARNING: /workspace/src/objective/regression_obj.cu:152: reg:linear is now deprecated in favor of reg:squarederror.\n",
            "[02:38:33] WARNING: /workspace/src/objective/regression_obj.cu:152: reg:linear is now deprecated in favor of reg:squarederror.\n",
            "[02:38:34] WARNING: /workspace/src/objective/regression_obj.cu:152: reg:linear is now deprecated in favor of reg:squarederror.\n",
            "[02:38:34] WARNING: /workspace/src/objective/regression_obj.cu:152: reg:linear is now deprecated in favor of reg:squarederror.\n",
            "[02:38:35] WARNING: /workspace/src/objective/regression_obj.cu:152: reg:linear is now deprecated in favor of reg:squarederror.\n",
            "[02:38:35] WARNING: /workspace/src/objective/regression_obj.cu:152: reg:linear is now deprecated in favor of reg:squarederror.\n",
            "[02:38:36] WARNING: /workspace/src/objective/regression_obj.cu:152: reg:linear is now deprecated in favor of reg:squarederror.\n",
            "[02:38:37] WARNING: /workspace/src/objective/regression_obj.cu:152: reg:linear is now deprecated in favor of reg:squarederror.\n",
            "[02:38:37] WARNING: /workspace/src/objective/regression_obj.cu:152: reg:linear is now deprecated in favor of reg:squarederror.\n",
            "[02:38:38] WARNING: /workspace/src/objective/regression_obj.cu:152: reg:linear is now deprecated in favor of reg:squarederror.\n",
            "[02:38:39] WARNING: /workspace/src/objective/regression_obj.cu:152: reg:linear is now deprecated in favor of reg:squarederror.\n",
            "[02:38:40] WARNING: /workspace/src/objective/regression_obj.cu:152: reg:linear is now deprecated in favor of reg:squarederror.\n",
            "[02:38:41] WARNING: /workspace/src/objective/regression_obj.cu:152: reg:linear is now deprecated in favor of reg:squarederror.\n",
            "[02:38:41] WARNING: /workspace/src/objective/regression_obj.cu:152: reg:linear is now deprecated in favor of reg:squarederror.\n",
            "[02:38:42] WARNING: /workspace/src/objective/regression_obj.cu:152: reg:linear is now deprecated in favor of reg:squarederror.\n",
            "[02:38:43] WARNING: /workspace/src/objective/regression_obj.cu:152: reg:linear is now deprecated in favor of reg:squarederror.\n",
            "[02:38:43] WARNING: /workspace/src/objective/regression_obj.cu:152: reg:linear is now deprecated in favor of reg:squarederror.\n",
            "[02:38:44] WARNING: /workspace/src/objective/regression_obj.cu:152: reg:linear is now deprecated in favor of reg:squarederror.\n",
            "[02:38:44] WARNING: /workspace/src/objective/regression_obj.cu:152: reg:linear is now deprecated in favor of reg:squarederror.\n",
            "[02:38:45] WARNING: /workspace/src/objective/regression_obj.cu:152: reg:linear is now deprecated in favor of reg:squarederror.\n",
            "[02:38:46] WARNING: /workspace/src/objective/regression_obj.cu:152: reg:linear is now deprecated in favor of reg:squarederror.\n",
            "[02:38:46] WARNING: /workspace/src/objective/regression_obj.cu:152: reg:linear is now deprecated in favor of reg:squarederror.\n",
            "[02:38:47] WARNING: /workspace/src/objective/regression_obj.cu:152: reg:linear is now deprecated in favor of reg:squarederror.\n",
            "[02:38:48] WARNING: /workspace/src/objective/regression_obj.cu:152: reg:linear is now deprecated in favor of reg:squarederror.\n",
            "[02:38:48] WARNING: /workspace/src/objective/regression_obj.cu:152: reg:linear is now deprecated in favor of reg:squarederror.\n",
            "[02:38:49] WARNING: /workspace/src/objective/regression_obj.cu:152: reg:linear is now deprecated in favor of reg:squarederror.\n",
            "[02:38:50] WARNING: /workspace/src/objective/regression_obj.cu:152: reg:linear is now deprecated in favor of reg:squarederror.\n",
            "[02:38:51] WARNING: /workspace/src/objective/regression_obj.cu:152: reg:linear is now deprecated in favor of reg:squarederror.\n",
            "[02:38:52] WARNING: /workspace/src/objective/regression_obj.cu:152: reg:linear is now deprecated in favor of reg:squarederror.\n",
            "[02:38:53] WARNING: /workspace/src/objective/regression_obj.cu:152: reg:linear is now deprecated in favor of reg:squarederror.\n",
            "[02:38:53] WARNING: /workspace/src/objective/regression_obj.cu:152: reg:linear is now deprecated in favor of reg:squarederror.\n",
            "[02:38:54] WARNING: /workspace/src/objective/regression_obj.cu:152: reg:linear is now deprecated in favor of reg:squarederror.\n",
            "[02:38:54] WARNING: /workspace/src/objective/regression_obj.cu:152: reg:linear is now deprecated in favor of reg:squarederror.\n",
            "[02:38:55] WARNING: /workspace/src/objective/regression_obj.cu:152: reg:linear is now deprecated in favor of reg:squarederror.\n",
            "[02:38:55] WARNING: /workspace/src/objective/regression_obj.cu:152: reg:linear is now deprecated in favor of reg:squarederror.\n",
            "[02:38:56] WARNING: /workspace/src/objective/regression_obj.cu:152: reg:linear is now deprecated in favor of reg:squarederror.\n",
            "[02:38:57] WARNING: /workspace/src/objective/regression_obj.cu:152: reg:linear is now deprecated in favor of reg:squarederror.\n",
            "[02:38:57] WARNING: /workspace/src/objective/regression_obj.cu:152: reg:linear is now deprecated in favor of reg:squarederror.\n",
            "[02:38:58] WARNING: /workspace/src/objective/regression_obj.cu:152: reg:linear is now deprecated in favor of reg:squarederror.\n",
            "[02:38:59] WARNING: /workspace/src/objective/regression_obj.cu:152: reg:linear is now deprecated in favor of reg:squarederror.\n",
            "[02:39:00] WARNING: /workspace/src/objective/regression_obj.cu:152: reg:linear is now deprecated in favor of reg:squarederror.\n",
            "[02:39:00] WARNING: /workspace/src/objective/regression_obj.cu:152: reg:linear is now deprecated in favor of reg:squarederror.\n",
            "[02:39:01] WARNING: /workspace/src/objective/regression_obj.cu:152: reg:linear is now deprecated in favor of reg:squarederror.\n",
            "[02:39:02] WARNING: /workspace/src/objective/regression_obj.cu:152: reg:linear is now deprecated in favor of reg:squarederror.\n",
            "[02:39:03] WARNING: /workspace/src/objective/regression_obj.cu:152: reg:linear is now deprecated in favor of reg:squarederror.\n",
            "dict_keys(['mean_fit_time', 'std_fit_time', 'mean_score_time', 'std_score_time', 'param_model__early_stopping_rounds', 'param_model__learning_rate', 'param_model__n_estimators', 'param_model__random_state', 'params', 'split0_test_neg_root_mean_squared_error', 'split1_test_neg_root_mean_squared_error', 'split2_test_neg_root_mean_squared_error', 'split3_test_neg_root_mean_squared_error', 'split4_test_neg_root_mean_squared_error', 'mean_test_neg_root_mean_squared_error', 'std_test_neg_root_mean_squared_error', 'rank_test_neg_root_mean_squared_error', 'split0_train_neg_root_mean_squared_error', 'split1_train_neg_root_mean_squared_error', 'split2_train_neg_root_mean_squared_error', 'split3_train_neg_root_mean_squared_error', 'split4_train_neg_root_mean_squared_error', 'mean_train_neg_root_mean_squared_error', 'std_train_neg_root_mean_squared_error', 'split0_test_neg_mean_absolute_error', 'split1_test_neg_mean_absolute_error', 'split2_test_neg_mean_absolute_error', 'split3_test_neg_mean_absolute_error', 'split4_test_neg_mean_absolute_error', 'mean_test_neg_mean_absolute_error', 'std_test_neg_mean_absolute_error', 'rank_test_neg_mean_absolute_error', 'split0_train_neg_mean_absolute_error', 'split1_train_neg_mean_absolute_error', 'split2_train_neg_mean_absolute_error', 'split3_train_neg_mean_absolute_error', 'split4_train_neg_mean_absolute_error', 'mean_train_neg_mean_absolute_error', 'std_train_neg_mean_absolute_error'])\n",
            "[5 10 15 5 10 15 5 10 15]\n",
            "-2575.520590775598\n",
            "261.00345100843646\n",
            "-13213.386501622896\n",
            "-2534.895531885545\n",
            "67.87595702704895\n",
            "-13519.382724310892\n",
            "Best parameters {'model__early_stopping_rounds': 5, 'model__learning_rate': 0.1, 'model__n_estimators': 5, 'model__random_state': 1}\n",
            "Best score -2575.520590775598\n"
          ]
        }
      ]
    },
    {
      "cell_type": "markdown",
      "source": [
        "El resultado fue ligeramente peor que con todas las features, por lo que creo que tengo que trabajar un poco mas en cuales features recortar. Igualmente la diferencia no es significativa."
      ],
      "metadata": {
        "id": "sEQ_IUU3KldR"
      }
    },
    {
      "cell_type": "code",
      "source": [
        "print(best_params_xgb)\n",
        "\n",
        "my_pipeline = Pipeline(steps=[\n",
        "    ('preprocessor', preprocessor),\n",
        "    ('model', XGBRegressor(\n",
        "        n_estimators=5,\n",
        "        learning_rate=0.1,\n",
        "        random_state=1,\n",
        "        ))\n",
        "  ])\n",
        "\n",
        "my_pipeline.fit(trainval_X, trainval_y)\n",
        "\n",
        "preds = my_pipeline.predict(test_X)\n",
        "\n",
        "print(f\"MAE: {mean_absolute_error(preds, test_y)} MSE: {np.sqrt(mean_squared_error(preds, test_y))}\" )"
      ],
      "metadata": {
        "colab": {
          "base_uri": "https://localhost:8080/"
        },
        "id": "3vlT9FnGKoU_",
        "outputId": "689a77b6-fa09-4d1a-87a3-7525a790acac"
      },
      "execution_count": 45,
      "outputs": [
        {
          "output_type": "stream",
          "name": "stdout",
          "text": [
            "{'model__early_stopping_rounds': 5, 'model__learning_rate': 0.1, 'model__n_estimators': 5, 'model__random_state': 1}\n",
            "[02:43:52] WARNING: /workspace/src/objective/regression_obj.cu:152: reg:linear is now deprecated in favor of reg:squarederror.\n",
            "MAE: 2340.3501650032645 MSE: 8403.811103359347\n"
          ]
        }
      ]
    },
    {
      "cell_type": "markdown",
      "source": [
        "Y el resultado final también fue ligeramente peor, pero casi sin diferencia. Creo que la diferencia no es significativa."
      ],
      "metadata": {
        "id": "4kmQGRbBLOXc"
      }
    }
  ]
}