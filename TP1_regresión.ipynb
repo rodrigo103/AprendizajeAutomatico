{
  "nbformat": 4,
  "nbformat_minor": 0,
  "metadata": {
    "colab": {
      "provenance": [],
      "collapsed_sections": [],
      "include_colab_link": true
    },
    "kernelspec": {
      "name": "python3",
      "display_name": "Python 3"
    },
    "language_info": {
      "name": "python"
    }
  },
  "cells": [
    {
      "cell_type": "markdown",
      "metadata": {
        "id": "view-in-github",
        "colab_type": "text"
      },
      "source": [
        "<a href=\"https://colab.research.google.com/github/rodrigo103/AprendizajeAutomatico/blob/main/TP1_regresi%C3%B3n.ipynb\" target=\"_parent\"><img src=\"https://colab.research.google.com/assets/colab-badge.svg\" alt=\"Open In Colab\"/></a>"
      ]
    },
    {
      "cell_type": "code",
      "source": [
        "# Librerías de análisis de datos\n",
        "\n",
        "import numpy as np\n",
        "import pandas as pd\n",
        "import matplotlib.pyplot as plt\n",
        "import seaborn as sns\n",
        "# from pandas.api.types import CategoricalDtype\n",
        "\n",
        "from pandas.plotting import scatter_matrix\n",
        "\n",
        "from pprint import pprint"
      ],
      "metadata": {
        "id": "46lvl7_qRLxs"
      },
      "execution_count": 1,
      "outputs": []
    },
    {
      "cell_type": "code",
      "source": [
        "# Librerías de Machine Learning\n",
        "\n",
        "from sklearn.pipeline import Pipeline\n",
        "from sklearn.model_selection import train_test_split\n",
        "from sklearn.model_selection import cross_val_score\n",
        "from sklearn.tree import DecisionTreeRegressor\n",
        "from sklearn.tree import DecisionTreeClassifier\n",
        "from sklearn.metrics import mean_absolute_error\n",
        "from sklearn.metrics import mean_squared_error\n",
        "from sklearn.metrics import accuracy_score\n",
        "from sklearn.metrics import confusion_matrix\n",
        "from sklearn.metrics import classification_report\n",
        "from sklearn.ensemble import RandomForestRegressor\n",
        "from sklearn.ensemble import RandomForestClassifier\n",
        "from xgboost import XGBRegressor\n",
        "from xgboost import XGBClassifier"
      ],
      "metadata": {
        "id": "qhT0fOoORbnP"
      },
      "execution_count": 2,
      "outputs": []
    },
    {
      "cell_type": "code",
      "execution_count": 3,
      "metadata": {
        "id": "jm1ieJiJb7YZ",
        "colab": {
          "base_uri": "https://localhost:8080/"
        },
        "outputId": "7b193f71-7d6e-4c42-b498-a28edee88f5b"
      },
      "outputs": [
        {
          "output_type": "stream",
          "name": "stdout",
          "text": [
            "Mounted at /content/drive\n"
          ]
        }
      ],
      "source": [
        "from google.colab import drive\n",
        "drive.mount('/content/drive')"
      ]
    },
    {
      "cell_type": "code",
      "source": [
        "df = pd.read_csv(\"drive/MyDrive/AprendizajeAutomatico/OnlineNewsPopularity.csv\", sep=', ') # agregué el espacio, se estaban parceando con un espacio las keys"
      ],
      "metadata": {
        "id": "zUOzfjzQkQ2b",
        "colab": {
          "base_uri": "https://localhost:8080/"
        },
        "outputId": "606b97b0-c63c-40ea-ceea-760e98472d8e"
      },
      "execution_count": 4,
      "outputs": [
        {
          "output_type": "stream",
          "name": "stderr",
          "text": [
            "/usr/local/lib/python3.7/dist-packages/pandas/util/_decorators.py:311: ParserWarning: Falling back to the 'python' engine because the 'c' engine does not support regex separators (separators > 1 char and different from '\\s+' are interpreted as regex); you can avoid this warning by specifying engine='python'.\n",
            "  return func(*args, **kwargs)\n"
          ]
        }
      ]
    },
    {
      "cell_type": "markdown",
      "source": [
        "Se separa el dataframe en features (X) y target (y)"
      ],
      "metadata": {
        "id": "ZFavcJJiflhy"
      }
    },
    {
      "cell_type": "code",
      "source": [
        "features = [\n",
        "    'timedelta', \n",
        "    # Words\n",
        "    'n_tokens_title', 'n_tokens_content', \n",
        "    'average_token_length', \n",
        "    'n_unique_tokens', 'n_non_stop_words', 'n_non_stop_unique_tokens',\n",
        "    'num_hrefs', 'num_self_hrefs',\n",
        "    # Digital Media\n",
        "    'num_imgs', 'num_videos', \n",
        "    # Links\n",
        "    'self_reference_min_shares', 'self_reference_max_shares', 'self_reference_avg_sharess', \n",
        "    # Time\n",
        "    'weekday_is_monday', 'weekday_is_tuesday', 'weekday_is_wednesday', 'weekday_is_thursday', 'weekday_is_friday', 'weekday_is_saturday', 'weekday_is_sunday', \n",
        "    'is_weekend', \n",
        "    # Keywords\n",
        "    'num_keywords', \n",
        "    'kw_min_min', 'kw_max_min', 'kw_avg_min', 'kw_min_max', 'kw_max_max', 'kw_avg_max', 'kw_min_avg', 'kw_max_avg', 'kw_avg_avg', \n",
        "    'data_channel_is_lifestyle', 'data_channel_is_entertainment', 'data_channel_is_bus', 'data_channel_is_socmed', 'data_channel_is_tech', 'data_channel_is_world', \n",
        "    # Natural Language Processing\n",
        "    'LDA_00', 'LDA_01', 'LDA_02', 'LDA_03', 'LDA_04', \n",
        "    'global_subjectivity', 'global_sentiment_polarity', \n",
        "    'global_rate_positive_words', 'global_rate_negative_words', \n",
        "    'rate_positive_words', 'rate_negative_words', \n",
        "    'avg_positive_polarity', 'min_positive_polarity', 'max_positive_polarity', \n",
        "    'avg_negative_polarity', 'min_negative_polarity', 'max_negative_polarity', \n",
        "    'title_subjectivity', 'title_sentiment_polarity', 'abs_title_subjectivity', 'abs_title_sentiment_polarity'\n",
        "]\n",
        "\n",
        "X = df[features]\n",
        "y = df.shares\n"
      ],
      "metadata": {
        "id": "HJJ6CHpCfmKc"
      },
      "execution_count": null,
      "outputs": []
    },
    {
      "cell_type": "markdown",
      "source": [
        "Lo primero que hay que hacer es separar un conjunto de datos para test"
      ],
      "metadata": {
        "id": "snYVT1Pwbmkr"
      }
    },
    {
      "cell_type": "code",
      "source": [
        "trainval_X, test_X, trainval_y, test_y = train_test_split(X, y, random_state = 0, test_size = 0.3)"
      ],
      "metadata": {
        "id": "qsrGmZUIbtzL"
      },
      "execution_count": null,
      "outputs": []
    },
    {
      "cell_type": "markdown",
      "source": [
        "Ahora separo el conjunto de datos restante (trainval) en entrenamiento (train) y validación (val)"
      ],
      "metadata": {
        "id": "jylDN5xMgN04"
      }
    },
    {
      "cell_type": "code",
      "source": [
        "train_X, val_X, train_y, val_y = train_test_split(trainval_X, trainval_y, random_state = 0)"
      ],
      "metadata": {
        "id": "v9ebOddrgTG5"
      },
      "execution_count": null,
      "outputs": []
    },
    {
      "cell_type": "markdown",
      "source": [
        "Relizo un entrenamiento con varios modelos sin realizar ningun tratamiento sobre los datos para establecer una linea de base"
      ],
      "metadata": {
        "id": "-ehs-5YEvTkK"
      }
    },
    {
      "cell_type": "code",
      "source": [
        "# Funcion para comparar distintos modelos\n",
        "def score_model(model, X_t=train_X, X_v=val_X, y_t=train_y, y_v=val_y):\n",
        "    model.fit(X_t, y_t)\n",
        "    preds = model.predict(X_v)\n",
        "    return mean_absolute_error(y_v, preds), mean_squared_error(y_v, preds)\n",
        "\n",
        "models = [\n",
        "    DecisionTreeRegressor(max_leaf_nodes=None, random_state=1),\n",
        "    DecisionTreeRegressor(max_leaf_nodes=2, random_state=1),\n",
        "    DecisionTreeRegressor(max_leaf_nodes=3, random_state=1),\n",
        "    DecisionTreeRegressor(max_leaf_nodes=4, random_state=1),\n",
        "    DecisionTreeRegressor(max_leaf_nodes=5, random_state=1),\n",
        "    DecisionTreeRegressor(max_leaf_nodes=6, random_state=1),\n",
        "    DecisionTreeRegressor(max_leaf_nodes=7, random_state=1),\n",
        "    DecisionTreeRegressor(max_leaf_nodes=8, random_state=1),\n",
        "    DecisionTreeRegressor(max_leaf_nodes=9, random_state=1),\n",
        "    DecisionTreeRegressor(max_leaf_nodes=10, random_state=1),\n",
        "    DecisionTreeRegressor(max_leaf_nodes=20, random_state=1),\n",
        "    DecisionTreeRegressor(max_leaf_nodes=30, random_state=1),\n",
        "    DecisionTreeRegressor(max_leaf_nodes=40, random_state=1),\n",
        "    DecisionTreeRegressor(max_leaf_nodes=50, random_state=1),\n",
        "    DecisionTreeRegressor(max_leaf_nodes=500, random_state=1),\n",
        "    DecisionTreeRegressor(max_leaf_nodes=5000, random_state=1),\n",
        "#     RandomForestRegressor(random_state=1)\n",
        "#     RandomForestRegressor(n_estimators=50, random_state=1),\n",
        "#     RandomForestRegressor(n_estimators=100, random_state=1),\n",
        "#     # RandomForestRegressor(n_estimators=100, criterion='absolute_error', random_state=1),\n",
        "#     # RandomForestRegressor(n_estimators=200, min_samples_split=20, random_state=1),\n",
        "#     # RandomForestRegressor(n_estimators=100, max_depth=7, random_state=1),\n",
        "    XGBRegressor(), \n",
        "    XGBRegressor(n_estimators=500), \n",
        "    XGBRegressor(n_estimators=1000, learning_rate=0.05),\n",
        "]\n",
        "\n",
        "for i in range(0, len(models)):\n",
        "    mae, mse = score_model(models[i])\n",
        "    print(\"Model %d MAE: %d MSE: %d\" % (i+1, mae, mse))\n",
        "\n",
        "# Pruebo usando early stopping\n",
        "my_model2 = XGBRegressor(n_estimators=500)\n",
        "my_model2.fit(train_X, train_y,\n",
        "              early_stopping_rounds=5, \n",
        "             eval_set=[(val_X, val_y)],\n",
        "             verbose=False)\n",
        "preds = my_model2.predict(val_X)\n",
        "print(\"MAE: \" + str(mean_absolute_error(preds, val_y)) + \"MSE: \" + str(mean_squared_error(preds, val_y)))"
      ],
      "metadata": {
        "colab": {
          "base_uri": "https://localhost:8080/"
        },
        "id": "eKiRZPng24m3",
        "outputId": "f7a8ac67-da1a-4ad6-9d78-78cfc4826045"
      },
      "execution_count": null,
      "outputs": [
        {
          "output_type": "stream",
          "name": "stdout",
          "text": [
            "Model 1 MAE: 4264 MSE: 280760677\n",
            "Model 2 MAE: 3140 MSE: 70891878\n",
            "Model 3 MAE: 3165 MSE: 86046470\n",
            "Model 4 MAE: 3118 MSE: 70707089\n",
            "Model 5 MAE: 3135 MSE: 72381574\n",
            "Model 6 MAE: 3097 MSE: 70539063\n",
            "Model 7 MAE: 3054 MSE: 70193684\n",
            "Model 8 MAE: 3100 MSE: 74416561\n",
            "Model 9 MAE: 3391 MSE: 289143121\n",
            "Model 10 MAE: 3385 MSE: 289104679\n",
            "Model 11 MAE: 3328 MSE: 289014433\n",
            "Model 12 MAE: 3321 MSE: 294289063\n",
            "Model 13 MAE: 3343 MSE: 308962942\n",
            "Model 14 MAE: 3363 MSE: 315534877\n",
            "Model 15 MAE: 3730 MSE: 361499970\n",
            "Model 16 MAE: 4415 MSE: 375135940\n",
            "[21:03:19] WARNING: /workspace/src/objective/regression_obj.cu:152: reg:linear is now deprecated in favor of reg:squarederror.\n",
            "Model 17 MAE: 3015 MSE: 76966148\n",
            "[21:03:22] WARNING: /workspace/src/objective/regression_obj.cu:152: reg:linear is now deprecated in favor of reg:squarederror.\n",
            "Model 18 MAE: 3127 MSE: 84498530\n",
            "[21:03:39] WARNING: /workspace/src/objective/regression_obj.cu:152: reg:linear is now deprecated in favor of reg:squarederror.\n",
            "Model 19 MAE: 3086 MSE: 81033652\n",
            "[21:04:13] WARNING: /workspace/src/objective/regression_obj.cu:152: reg:linear is now deprecated in favor of reg:squarederror.\n",
            "MAE: 2639.0730190546515MSE: 71251890.6180906\n"
          ]
        }
      ]
    },
    {
      "cell_type": "markdown",
      "source": [
        "Excluyo las noticias con mas de 40000 compartidas del dataframe"
      ],
      "metadata": {
        "id": "GJvT2LDSp6HS"
      }
    },
    {
      "cell_type": "code",
      "source": [
        "# df = df[df.shares < 40000]"
      ],
      "metadata": {
        "id": "Yvyp6myxp-mr"
      },
      "execution_count": null,
      "outputs": []
    },
    {
      "cell_type": "markdown",
      "source": [
        "Esto que hice esta mal, lo que hay que hacer es esto mismo pero sobre train_X y train_y"
      ],
      "metadata": {
        "id": "1rBOGXc-UN34"
      }
    },
    {
      "cell_type": "markdown",
      "source": [
        "Vuelvo a correr los modelos para observar si hay alguna mejora"
      ],
      "metadata": {
        "id": "SWovuf0AvxMr"
      }
    },
    {
      "cell_type": "code",
      "source": [
        "features = [\n",
        "    'timedelta', \n",
        "    # Words\n",
        "    'n_tokens_title', 'n_tokens_content', \n",
        "    'average_token_length', \n",
        "    'n_unique_tokens', 'n_non_stop_words', 'n_non_stop_unique_tokens',\n",
        "    'num_hrefs', 'num_self_hrefs',\n",
        "    # Digital Media\n",
        "    'num_imgs', 'num_videos', \n",
        "    # Links\n",
        "    'self_reference_min_shares', 'self_reference_max_shares', 'self_reference_avg_sharess', \n",
        "    # Time\n",
        "    'weekday_is_monday', 'weekday_is_tuesday', 'weekday_is_wednesday', 'weekday_is_thursday', 'weekday_is_friday', 'weekday_is_saturday', 'weekday_is_sunday', \n",
        "    'is_weekend', \n",
        "    # Keywords\n",
        "    'num_keywords', \n",
        "    'kw_min_min', 'kw_max_min', 'kw_avg_min', 'kw_min_max', 'kw_max_max', 'kw_avg_max', 'kw_min_avg', 'kw_max_avg', 'kw_avg_avg', \n",
        "    'data_channel_is_lifestyle', 'data_channel_is_entertainment', 'data_channel_is_bus', 'data_channel_is_socmed', 'data_channel_is_tech', 'data_channel_is_world', \n",
        "    # Natural Language Processing\n",
        "    'LDA_00', 'LDA_01', 'LDA_02', 'LDA_03', 'LDA_04', \n",
        "    'global_subjectivity', 'global_sentiment_polarity', \n",
        "    'global_rate_positive_words', 'global_rate_negative_words', \n",
        "    'rate_positive_words', 'rate_negative_words', \n",
        "    'avg_positive_polarity', 'min_positive_polarity', 'max_positive_polarity', \n",
        "    'avg_negative_polarity', 'min_negative_polarity', 'max_negative_polarity', \n",
        "    'title_subjectivity', 'title_sentiment_polarity', 'abs_title_subjectivity', 'abs_title_sentiment_polarity'\n",
        "]\n",
        "\n",
        "X = df[features]\n",
        "y = df.shares\n",
        "\n",
        "train_X, val_X, train_y, val_y = train_test_split(X, y, random_state = 0)\n",
        "\n",
        "train_X['shares'] = train_y\n",
        "train_X = train_X[train_X.shares < 40000]\n",
        "train_y = train_X.shares\n",
        "train_X = train_X[features]"
      ],
      "metadata": {
        "id": "bR2TVadVvwIN"
      },
      "execution_count": null,
      "outputs": []
    },
    {
      "cell_type": "code",
      "source": [
        "# Funcion para comparar distintos modelos\n",
        "def score_model(model, X_t=train_X, X_v=val_X, y_t=train_y, y_v=val_y):\n",
        "    model.fit(X_t, y_t)\n",
        "    preds = model.predict(X_v)\n",
        "    return mean_absolute_error(y_v, preds), mean_squared_error(y_v, preds)\n",
        "\n",
        "models = [\n",
        "    DecisionTreeRegressor(max_leaf_nodes=None, random_state=1),\n",
        "    DecisionTreeRegressor(max_leaf_nodes=2, random_state=1),\n",
        "    DecisionTreeRegressor(max_leaf_nodes=3, random_state=1),\n",
        "    DecisionTreeRegressor(max_leaf_nodes=4, random_state=1),\n",
        "    DecisionTreeRegressor(max_leaf_nodes=5, random_state=1),\n",
        "    DecisionTreeRegressor(max_leaf_nodes=6, random_state=1),\n",
        "    DecisionTreeRegressor(max_leaf_nodes=7, random_state=1),\n",
        "    DecisionTreeRegressor(max_leaf_nodes=8, random_state=1),\n",
        "    DecisionTreeRegressor(max_leaf_nodes=9, random_state=1),\n",
        "    DecisionTreeRegressor(max_leaf_nodes=10, random_state=1),\n",
        "    DecisionTreeRegressor(max_leaf_nodes=20, random_state=1),\n",
        "    DecisionTreeRegressor(max_leaf_nodes=30, random_state=1),\n",
        "    DecisionTreeRegressor(max_leaf_nodes=40, random_state=1),\n",
        "    DecisionTreeRegressor(max_leaf_nodes=50, random_state=1),\n",
        "    DecisionTreeRegressor(max_leaf_nodes=500, random_state=1),\n",
        "    DecisionTreeRegressor(max_leaf_nodes=5000, random_state=1),\n",
        "#     RandomForestRegressor(random_state=1)\n",
        "#     RandomForestRegressor(n_estimators=50, random_state=1),\n",
        "#     RandomForestRegressor(n_estimators=100, random_state=1),\n",
        "#     # RandomForestRegressor(n_estimators=100, criterion='absolute_error', random_state=1),\n",
        "#     # RandomForestRegressor(n_estimators=200, min_samples_split=20, random_state=1),\n",
        "#     # RandomForestRegressor(n_estimators=100, max_depth=7, random_state=1),\n",
        "    XGBRegressor(), \n",
        "    XGBRegressor(n_estimators=500), \n",
        "    XGBRegressor(n_estimators=1000, learning_rate=0.05),\n",
        "]\n",
        "\n",
        "for i in range(0, len(models)):\n",
        "    mae, mse = score_model(models[i])\n",
        "    print(\"Model %d MAE: %d MSE: %d\" % (i+1, mae, mse))\n",
        "\n",
        "# Pruebo usando early stopping\n",
        "my_model2 = XGBRegressor(n_estimators=500)\n",
        "my_model2.fit(train_X, train_y,\n",
        "              early_stopping_rounds=5, \n",
        "             eval_set=[(val_X, val_y)],\n",
        "             verbose=False)\n",
        "preds = my_model2.predict(val_X)\n",
        "print(\"MAE: \" + str(mean_absolute_error(preds, val_y)) + \"MSE: \" + str(mean_squared_error(preds, val_y)))"
      ],
      "metadata": {
        "colab": {
          "base_uri": "https://localhost:8080/"
        },
        "id": "A3uO-DLJUrC3",
        "outputId": "984552d8-e823-4c32-e126-c1dcbbdc41cd"
      },
      "execution_count": null,
      "outputs": [
        {
          "output_type": "stream",
          "name": "stdout",
          "text": [
            "Model 1 MAE: 3398 MSE: 88421117\n",
            "Model 2 MAE: 2711 MSE: 71640462\n",
            "Model 3 MAE: 2706 MSE: 71475540\n",
            "Model 4 MAE: 2691 MSE: 71289647\n",
            "Model 5 MAE: 2678 MSE: 71165234\n",
            "Model 6 MAE: 2677 MSE: 71137910\n",
            "Model 7 MAE: 2678 MSE: 71211418\n",
            "Model 8 MAE: 2679 MSE: 71258085\n",
            "Model 9 MAE: 2682 MSE: 71363706\n",
            "Model 10 MAE: 2675 MSE: 71353749\n",
            "Model 11 MAE: 2662 MSE: 71443063\n",
            "Model 12 MAE: 2667 MSE: 71824177\n",
            "Model 13 MAE: 2678 MSE: 72329209\n",
            "Model 14 MAE: 2684 MSE: 72678215\n",
            "Model 15 MAE: 2830 MSE: 79524654\n",
            "Model 16 MAE: 3286 MSE: 87433279\n",
            "[17:09:08] WARNING: /workspace/src/objective/regression_obj.cu:152: reg:linear is now deprecated in favor of reg:squarederror.\n",
            "Model 17 MAE: 2599 MSE: 70531328\n",
            "[17:09:15] WARNING: /workspace/src/objective/regression_obj.cu:152: reg:linear is now deprecated in favor of reg:squarederror.\n",
            "Model 18 MAE: 2600 MSE: 70288165\n",
            "[17:09:46] WARNING: /workspace/src/objective/regression_obj.cu:152: reg:linear is now deprecated in favor of reg:squarederror.\n",
            "Model 19 MAE: 2600 MSE: 70383189\n",
            "[17:10:52] WARNING: /workspace/src/objective/regression_obj.cu:152: reg:linear is now deprecated in favor of reg:squarederror.\n",
            "MAE: 2595.095608089733MSE: 70429246.58131781\n"
          ]
        }
      ]
    },
    {
      "cell_type": "markdown",
      "source": [
        "Se comprueba que hay una mejora muy importante en la performance de todos los modelos."
      ],
      "metadata": {
        "id": "WIK8STh2v5_o"
      }
    },
    {
      "cell_type": "markdown",
      "source": [
        "Mediante prueba y error y teniendo en cuenta la hipótesis de que el día de la semana no afectará mucho el resultado saco features del modelo"
      ],
      "metadata": {
        "id": "BLw7Vzoo2BVJ"
      }
    },
    {
      "cell_type": "code",
      "source": [
        "features = [\n",
        "    # 'timedelta', \n",
        "    # Words\n",
        "    'n_tokens_title', 'n_tokens_content', \n",
        "    # 'average_token_length', \n",
        "    # 'n_unique_tokens', 'n_non_stop_words', 'n_non_stop_unique_tokens',\n",
        "    'num_hrefs', 'num_self_hrefs',\n",
        "    # Digital Media\n",
        "    # 'num_imgs', 'num_videos', \n",
        "    # Links\n",
        "    'self_reference_min_shares', 'self_reference_max_shares', 'self_reference_avg_sharess', \n",
        "    # Time\n",
        "    # 'weekday_is_monday', 'weekday_is_tuesday', 'weekday_is_wednesday', 'weekday_is_thursday', 'weekday_is_friday', 'weekday_is_saturday', 'weekday_is_sunday', \n",
        "    # 'is_weekend', \n",
        "    # Keywords\n",
        "    'num_keywords', \n",
        "    'kw_min_min', 'kw_max_min', 'kw_avg_min', 'kw_min_max', 'kw_max_max', 'kw_avg_max', 'kw_min_avg', 'kw_max_avg', 'kw_avg_avg', \n",
        "    'data_channel_is_lifestyle', 'data_channel_is_entertainment', 'data_channel_is_bus', 'data_channel_is_socmed', 'data_channel_is_tech', 'data_channel_is_world', \n",
        "    # Natural Language Processing\n",
        "    'LDA_00', 'LDA_01', 'LDA_02', 'LDA_03', 'LDA_04', \n",
        "    'global_subjectivity', 'global_sentiment_polarity', \n",
        "    'global_rate_positive_words', 'global_rate_negative_words', \n",
        "    'rate_positive_words', 'rate_negative_words', \n",
        "    'avg_positive_polarity', 'min_positive_polarity', 'max_positive_polarity', \n",
        "    'avg_negative_polarity', 'min_negative_polarity', 'max_negative_polarity', \n",
        "    'title_subjectivity', 'title_sentiment_polarity', 'abs_title_subjectivity', 'abs_title_sentiment_polarity'\n",
        "]\n",
        "\n",
        "X = df[features]\n",
        "y = df.shares\n",
        "\n",
        "train_X, val_X, train_y, val_y = train_test_split(X, y, random_state = 0)\n",
        "\n",
        "\n",
        "# Funcion para comparar distintos modelos\n",
        "def score_model(model, X_t=train_X, X_v=val_X, y_t=train_y, y_v=val_y):\n",
        "    model.fit(X_t, y_t)\n",
        "    preds = model.predict(X_v)\n",
        "    return mean_absolute_error(y_v, preds), mean_squared_error(y_v, preds)\n",
        "\n",
        "models = [\n",
        "    DecisionTreeRegressor(max_leaf_nodes=None, random_state=1),\n",
        "    DecisionTreeRegressor(max_leaf_nodes=2, random_state=1),\n",
        "    DecisionTreeRegressor(max_leaf_nodes=3, random_state=1),\n",
        "    DecisionTreeRegressor(max_leaf_nodes=4, random_state=1),\n",
        "    DecisionTreeRegressor(max_leaf_nodes=5, random_state=1),\n",
        "    DecisionTreeRegressor(max_leaf_nodes=6, random_state=1),\n",
        "    DecisionTreeRegressor(max_leaf_nodes=7, random_state=1),\n",
        "    DecisionTreeRegressor(max_leaf_nodes=8, random_state=1),\n",
        "    DecisionTreeRegressor(max_leaf_nodes=9, random_state=1),\n",
        "    DecisionTreeRegressor(max_leaf_nodes=10, random_state=1),\n",
        "    DecisionTreeRegressor(max_leaf_nodes=20, random_state=1),\n",
        "    DecisionTreeRegressor(max_leaf_nodes=30, random_state=1),\n",
        "    DecisionTreeRegressor(max_leaf_nodes=40, random_state=1),\n",
        "    DecisionTreeRegressor(max_leaf_nodes=50, random_state=1),\n",
        "    DecisionTreeRegressor(max_leaf_nodes=500, random_state=1),\n",
        "    DecisionTreeRegressor(max_leaf_nodes=5000, random_state=1),\n",
        "#     RandomForestRegressor(random_state=1)\n",
        "#     RandomForestRegressor(n_estimators=50, random_state=1),\n",
        "#     RandomForestRegressor(n_estimators=100, random_state=1),\n",
        "#     # RandomForestRegressor(n_estimators=100, criterion='absolute_error', random_state=1),\n",
        "#     # RandomForestRegressor(n_estimators=200, min_samples_split=20, random_state=1),\n",
        "#     # RandomForestRegressor(n_estimators=100, max_depth=7, random_state=1),\n",
        "    XGBRegressor(), \n",
        "    XGBRegressor(n_estimators=500), \n",
        "    XGBRegressor(n_estimators=1000, learning_rate=0.05),\n",
        "]\n",
        "\n",
        "for i in range(0, len(models)):\n",
        "    mae, mse = score_model(models[i])\n",
        "    print(\"Model %d MAE: %d MSE: %d\" % (i+1, mae, mse))\n",
        "\n",
        "# Pruebo usando early stopping\n",
        "my_model2 = XGBRegressor(n_estimators=500)\n",
        "my_model2.fit(train_X, train_y,\n",
        "              early_stopping_rounds=5, \n",
        "             eval_set=[(val_X, val_y)],\n",
        "             verbose=False)\n",
        "preds = my_model2.predict(val_X)\n",
        "print(\"MAE: \" + str(mean_absolute_error(preds, val_y)) + \"MSE: \" + str(mean_squared_error(preds, val_y)))"
      ],
      "metadata": {
        "colab": {
          "base_uri": "https://localhost:8080/"
        },
        "id": "_G4Cji_ah6L_",
        "outputId": "cecc7eca-6f40-448e-8c09-ae1091951ca3"
      },
      "execution_count": null,
      "outputs": [
        {
          "output_type": "stream",
          "name": "stdout",
          "text": [
            "Model 1 MAE: 3093 MSE: 35737136\n",
            "Model 2 MAE: 2178 MSE: 15209147\n",
            "Model 3 MAE: 2158 MSE: 15083727\n",
            "Model 4 MAE: 2153 MSE: 15024594\n",
            "Model 5 MAE: 2154 MSE: 15052712\n",
            "Model 6 MAE: 2145 MSE: 14984934\n",
            "Model 7 MAE: 2140 MSE: 14979413\n",
            "Model 8 MAE: 2136 MSE: 14941631\n",
            "Model 9 MAE: 2134 MSE: 14934511\n",
            "Model 10 MAE: 2138 MSE: 14999264\n",
            "Model 11 MAE: 2140 MSE: 15213776\n",
            "Model 12 MAE: 2148 MSE: 15671495\n",
            "Model 13 MAE: 2157 MSE: 15984097\n",
            "Model 14 MAE: 2154 MSE: 16000998\n",
            "Model 15 MAE: 2349 MSE: 23626505\n",
            "Model 16 MAE: 2942 MSE: 34251415\n",
            "[03:24:39] WARNING: /workspace/src/objective/regression_obj.cu:152: reg:linear is now deprecated in favor of reg:squarederror.\n",
            "Model 17 MAE: 2088 MSE: 14677902\n",
            "[03:24:44] WARNING: /workspace/src/objective/regression_obj.cu:152: reg:linear is now deprecated in favor of reg:squarederror.\n",
            "Model 18 MAE: 2094 MSE: 14852046\n",
            "[03:25:10] WARNING: /workspace/src/objective/regression_obj.cu:152: reg:linear is now deprecated in favor of reg:squarederror.\n",
            "Model 19 MAE: 2093 MSE: 14840192\n",
            "[03:26:10] WARNING: /workspace/src/objective/regression_obj.cu:152: reg:linear is now deprecated in favor of reg:squarederror.\n",
            "MAE: 2089.001336359132MSE: 14674543.644854765\n"
          ]
        }
      ]
    },
    {
      "cell_type": "markdown",
      "source": [
        "El rendimiento del mejor modelo antes de recortar las variables fue  \n",
        "MAE: 2085.221372929854 MSE: 14669425.000988727  \n",
        "Y luego de recortarlas:  \n",
        "MAE: 2089.001336359132 MSE: 14674543.644854765  \n",
        "Por lo que se ve que hubo un muy ligero empeoramiento, pero es casi despreciable, parece ser que vale la pena eliminar esas features para simplificar el problema y redicir tiempos de computo."
      ],
      "metadata": {
        "id": "s2iUQbQn2ScS"
      }
    },
    {
      "cell_type": "markdown",
      "source": [
        "Se observa del analisis de histogramas de los features individuales que parece haber varios que pueden normalizarse (poseen skew). Ahora intento corregirlo para mejorar el comportamiento."
      ],
      "metadata": {
        "id": "UY9E_YlT2tHm"
      }
    },
    {
      "cell_type": "code",
      "source": [
        "list_of_features_to_apply_sqrt = [\n",
        "    # Words\n",
        "    'n_tokens_content', \n",
        "    'num_hrefs', 'num_self_hrefs',\n",
        "    'self_reference_min_shares', 'self_reference_max_shares', 'self_reference_avg_sharess', \n",
        "\n",
        "    # Natural Language Processing\n",
        "    'LDA_00', 'LDA_01', 'LDA_02', 'LDA_03', 'LDA_04', \n",
        "    'global_rate_negative_words',\n",
        "]\n",
        "\n",
        "for feature in list_of_features_to_apply_sqrt:\n",
        "  df[feature] = df[feature].apply(np.sqrt)\n",
        "\n",
        "X = df[features]\n",
        "y = df.shares\n"
      ],
      "metadata": {
        "colab": {
          "base_uri": "https://localhost:8080/"
        },
        "id": "Id1HtXor2YIb",
        "outputId": "714628ce-5a8c-4c49-84bd-100de4d23b42"
      },
      "execution_count": null,
      "outputs": [
        {
          "output_type": "stream",
          "name": "stderr",
          "text": [
            "/usr/local/lib/python3.7/dist-packages/ipykernel_launcher.py:13: SettingWithCopyWarning: \n",
            "A value is trying to be set on a copy of a slice from a DataFrame.\n",
            "Try using .loc[row_indexer,col_indexer] = value instead\n",
            "\n",
            "See the caveats in the documentation: https://pandas.pydata.org/pandas-docs/stable/user_guide/indexing.html#returning-a-view-versus-a-copy\n",
            "  del sys.path[0]\n"
          ]
        }
      ]
    },
    {
      "cell_type": "code",
      "source": [
        "# univariate analysis\n",
        "fig = plt.figure(figsize=(25, 30))  \n",
        "i = 0\n",
        "for column in X:\n",
        "    sub = fig.add_subplot(8, 6 , i + 1)\n",
        "    sub.set_xlabel(column)\n",
        "    X[column].plot(kind = 'hist')\n",
        "    i = i + 1"
      ],
      "metadata": {
        "colab": {
          "base_uri": "https://localhost:8080/",
          "height": 1000
        },
        "id": "0Nu6uN8d3HOz",
        "outputId": "20a5daae-a94f-47cd-c75d-3443d1b1daee"
      },
      "execution_count": null,
      "outputs": [
        {
          "output_type": "display_data",
          "data": {
            "text/plain": [
              "<Figure size 1800x2160 with 44 Axes>"
            ],
            "image/png": "[encoded data removed]"
          },
          "metadata": {}
        }
      ]
    },
    {
      "cell_type": "markdown",
      "source": [
        "Se ve que los features corregidos tienen ahora mas a la normalidad."
      ],
      "metadata": {
        "id": "6ixOdmrX3NOK"
      }
    },
    {
      "cell_type": "code",
      "source": [
        "features = [\n",
        "    # 'timedelta', \n",
        "    # Words\n",
        "    'n_tokens_title', 'n_tokens_content', \n",
        "    # 'average_token_length', \n",
        "    # 'n_unique_tokens', 'n_non_stop_words', 'n_non_stop_unique_tokens',\n",
        "    'num_hrefs', 'num_self_hrefs',\n",
        "    # Digital Media\n",
        "    # 'num_imgs', 'num_videos', \n",
        "    # Links\n",
        "    'self_reference_min_shares', 'self_reference_max_shares', 'self_reference_avg_sharess', \n",
        "    # Time\n",
        "    # 'weekday_is_monday', 'weekday_is_tuesday', 'weekday_is_wednesday', 'weekday_is_thursday', 'weekday_is_friday', 'weekday_is_saturday', 'weekday_is_sunday', \n",
        "    # 'is_weekend', \n",
        "    # Keywords\n",
        "    'num_keywords', \n",
        "    'kw_min_min', 'kw_max_min', 'kw_avg_min', 'kw_min_max', 'kw_max_max', 'kw_avg_max', 'kw_min_avg', 'kw_max_avg', 'kw_avg_avg', \n",
        "    'data_channel_is_lifestyle', 'data_channel_is_entertainment', 'data_channel_is_bus', 'data_channel_is_socmed', 'data_channel_is_tech', 'data_channel_is_world', \n",
        "    # Natural Language Processing\n",
        "    'LDA_00', 'LDA_01', 'LDA_02', 'LDA_03', 'LDA_04', \n",
        "    'global_subjectivity', 'global_sentiment_polarity', \n",
        "    'global_rate_positive_words', 'global_rate_negative_words', \n",
        "    'rate_positive_words', 'rate_negative_words', \n",
        "    'avg_positive_polarity', 'min_positive_polarity', 'max_positive_polarity', \n",
        "    'avg_negative_polarity', 'min_negative_polarity', 'max_negative_polarity', \n",
        "    'title_subjectivity', 'title_sentiment_polarity', 'abs_title_subjectivity', 'abs_title_sentiment_polarity'\n",
        "]\n",
        "\n",
        "X = df[features]\n",
        "y = df.shares\n",
        "\n",
        "train_X, val_X, train_y, val_y = train_test_split(X, y, random_state = 0)\n",
        "\n",
        "\n",
        "# Funcion para comparar distintos modelos\n",
        "def score_model(model, X_t=train_X, X_v=val_X, y_t=train_y, y_v=val_y):\n",
        "    model.fit(X_t, y_t)\n",
        "    preds = model.predict(X_v)\n",
        "    return mean_absolute_error(y_v, preds), mean_squared_error(y_v, preds)\n",
        "\n",
        "models = [\n",
        "    DecisionTreeRegressor(max_leaf_nodes=None, random_state=1),\n",
        "    DecisionTreeRegressor(max_leaf_nodes=2, random_state=1),\n",
        "    DecisionTreeRegressor(max_leaf_nodes=3, random_state=1),\n",
        "    DecisionTreeRegressor(max_leaf_nodes=4, random_state=1),\n",
        "    DecisionTreeRegressor(max_leaf_nodes=5, random_state=1),\n",
        "    DecisionTreeRegressor(max_leaf_nodes=6, random_state=1),\n",
        "    DecisionTreeRegressor(max_leaf_nodes=7, random_state=1),\n",
        "    DecisionTreeRegressor(max_leaf_nodes=8, random_state=1),\n",
        "    DecisionTreeRegressor(max_leaf_nodes=9, random_state=1),\n",
        "    DecisionTreeRegressor(max_leaf_nodes=10, random_state=1),\n",
        "    DecisionTreeRegressor(max_leaf_nodes=20, random_state=1),\n",
        "    DecisionTreeRegressor(max_leaf_nodes=30, random_state=1),\n",
        "    DecisionTreeRegressor(max_leaf_nodes=40, random_state=1),\n",
        "    DecisionTreeRegressor(max_leaf_nodes=50, random_state=1),\n",
        "    DecisionTreeRegressor(max_leaf_nodes=500, random_state=1),\n",
        "    DecisionTreeRegressor(max_leaf_nodes=5000, random_state=1),\n",
        "#     RandomForestRegressor(random_state=1)\n",
        "#     RandomForestRegressor(n_estimators=50, random_state=1),\n",
        "#     RandomForestRegressor(n_estimators=100, random_state=1),\n",
        "#     # RandomForestRegressor(n_estimators=100, criterion='absolute_error', random_state=1),\n",
        "#     # RandomForestRegressor(n_estimators=200, min_samples_split=20, random_state=1),\n",
        "#     # RandomForestRegressor(n_estimators=100, max_depth=7, random_state=1),\n",
        "    XGBRegressor(), \n",
        "    XGBRegressor(n_estimators=500), \n",
        "    XGBRegressor(n_estimators=1000, learning_rate=0.05),\n",
        "]\n",
        "\n",
        "for i in range(0, len(models)):\n",
        "    mae, mse = score_model(models[i])\n",
        "    print(\"Model %d MAE: %d MSE: %d\" % (i+1, mae, mse))\n",
        "\n",
        "# Pruebo usando early stopping\n",
        "my_model2 = XGBRegressor(n_estimators=500)\n",
        "my_model2.fit(train_X, train_y,\n",
        "              early_stopping_rounds=5, \n",
        "             eval_set=[(val_X, val_y)],\n",
        "             verbose=False)\n",
        "preds = my_model2.predict(val_X)\n",
        "print(\"MAE: \" + str(mean_absolute_error(preds, val_y)) + \"MSE: \" + str(mean_squared_error(preds, val_y)))"
      ],
      "metadata": {
        "colab": {
          "base_uri": "https://localhost:8080/"
        },
        "id": "Pekl3Hj53Los",
        "outputId": "ebb32642-235c-47e1-ada3-e0611ce7fac3"
      },
      "execution_count": null,
      "outputs": [
        {
          "output_type": "stream",
          "name": "stdout",
          "text": [
            "Model 1 MAE: 3070 MSE: 35895212\n",
            "Model 2 MAE: 2178 MSE: 15209147\n",
            "Model 3 MAE: 2158 MSE: 15083727\n",
            "Model 4 MAE: 2153 MSE: 15024594\n",
            "Model 5 MAE: 2154 MSE: 15052712\n",
            "Model 6 MAE: 2145 MSE: 14984934\n",
            "Model 7 MAE: 2140 MSE: 14979413\n",
            "Model 8 MAE: 2136 MSE: 14941631\n",
            "Model 9 MAE: 2134 MSE: 14934511\n",
            "Model 10 MAE: 2138 MSE: 14999264\n",
            "Model 11 MAE: 2140 MSE: 15213776\n",
            "Model 12 MAE: 2148 MSE: 15671495\n",
            "Model 13 MAE: 2157 MSE: 15984097\n",
            "Model 14 MAE: 2154 MSE: 16000998\n",
            "Model 15 MAE: 2348 MSE: 23843489\n",
            "Model 16 MAE: 2952 MSE: 35118514\n",
            "[03:26:47] WARNING: /workspace/src/objective/regression_obj.cu:152: reg:linear is now deprecated in favor of reg:squarederror.\n",
            "Model 17 MAE: 2088 MSE: 14679631\n",
            "[03:26:53] WARNING: /workspace/src/objective/regression_obj.cu:152: reg:linear is now deprecated in favor of reg:squarederror.\n",
            "Model 18 MAE: 2096 MSE: 14842619\n",
            "[03:27:19] WARNING: /workspace/src/objective/regression_obj.cu:152: reg:linear is now deprecated in favor of reg:squarederror.\n",
            "Model 19 MAE: 2097 MSE: 14845274\n",
            "[03:28:24] WARNING: /workspace/src/objective/regression_obj.cu:152: reg:linear is now deprecated in favor of reg:squarederror.\n",
            "MAE: 2089.4773640152353MSE: 14678665.893902794\n"
          ]
        }
      ]
    },
    {
      "cell_type": "markdown",
      "source": [
        "Con respecto a los valores anteriores:  \n",
        "MAE: 2089.001336359132 MSE: 14674543.644854765  \n",
        "Se logró un muy ligero empeoramiento:  \n",
        "MAE: 2089.4773640152353MSE: 14678665.893902794  \n",
        "Por lo que esta corrección parece no haber dado buen resultado."
      ],
      "metadata": {
        "id": "AxWMEBLZ5ows"
      }
    }
  ]
}